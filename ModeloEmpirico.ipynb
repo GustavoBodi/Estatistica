{
 "cells": [
  {
   "cell_type": "code",
   "execution_count": 1,
   "outputs": [
    {
     "name": "stdout",
     "output_type": "stream",
     "text": [
      "Populacao\n",
      "Média: u\n",
      "Proporcao: pi\n",
      "Variancia sigma quadrado\n",
      "Amostra\n",
      "Média: x linha\n",
      "Proporcao: p\n",
      "Variancia teta quadrado\n"
     ]
    }
   ],
   "source": [
    "import math\n",
    "import pandas\n",
    "import statistics\n",
    "# Anotacoes\n",
    "print(\"Populacao\")\n",
    "print(\"Média: u\")\n",
    "print(\"Proporcao: pi\")\n",
    "print(\"Variancia sigma quadrado\")\n",
    "\n",
    "print(\"Amostra\")\n",
    "print(\"Média: x linha\")\n",
    "print(\"Proporcao: p\")\n",
    "print(\"Variancia teta quadrado\")\n"
   ],
   "metadata": {
    "collapsed": false,
    "ExecuteTime": {
     "end_time": "2023-09-28T04:15:12.254274721Z",
     "start_time": "2023-09-28T04:15:12.038837620Z"
    }
   },
   "id": "cc70e34085a8a4ac"
  },
  {
   "cell_type": "code",
   "execution_count": 38,
   "outputs": [],
   "source": [
    "# Para sequencias com os números:\n",
    "\n",
    "numeros = [5.2, 6.4, 5.7, 8.3, 7.0, 5.4, 4.8, 9.1, 5.5, 6.2, 4.9, 5.7, 6.3, 5.1, 8.4, 6.2, 8.9, 7.3, 5.4, 4.8, 5.6, 6.8, 5.0, 6.7, 8.2, 7.1, 4.9, 5.0, 8.2, 9.9, 5.4, 5.6, 5.7, 6.2, 4.9, 5.1, 6.0, 4.7, 14.1, 5.3, 4.9, 5.0, 5.7, 6.3, 6.0, 6.8, 7.3, 6.9, 6.5, 5.9, 0.1, -50, 22, 10, 200, 9, 12]\n",
    "n = len(numeros)\n",
    "x_max = max(numeros)\n",
    "x_min = min(numeros)"
   ],
   "metadata": {
    "collapsed": false,
    "ExecuteTime": {
     "end_time": "2023-09-28T05:05:05.044615272Z",
     "start_time": "2023-09-28T05:05:05.033489996Z"
    }
   },
   "id": "4ab57c53be4ecd0a"
  },
  {
   "cell_type": "code",
   "execution_count": 8,
   "outputs": [],
   "source": [
    "# Número de Observaćões, para dividir em classes de frequencia > 30\n",
    "# Valor Máximo observado\n",
    "x_max = 14.5\n",
    "# Valor Mínimo observado\n",
    "x_min = 4.7\n",
    "# Números de obs nas faixas\n",
    "ni = [26, 16, 4, 3, 0, 0, 1]\n",
    "\n",
    "n = sum(ni)\n"
   ],
   "metadata": {
    "collapsed": false,
    "ExecuteTime": {
     "end_time": "2023-09-28T04:17:05.351800635Z",
     "start_time": "2023-09-28T04:17:05.310025121Z"
    }
   },
   "id": "9924c7abb70a188e"
  },
  {
   "cell_type": "code",
   "execution_count": 9,
   "outputs": [
    {
     "name": "stdout",
     "output_type": "stream",
     "text": [
      "Range: 9.8\n",
      "Valor Máximo: 14.5\n",
      "Valor Mínimo: 4.7\n",
      "Quantidade de Classes Sturges: 7\n",
      "Quantidade de Classes Raiz: 7\n",
      "Intervalo entre as Classes: 1.4000000000000001\n"
     ]
    }
   ],
   "source": [
    "# Range\n",
    "r = x_max - x_min\n",
    "# Quantidade de Classes pelo Critério da Raiz\n",
    "classe_raiz = round(math.sqrt(n))\n",
    "# Quantidade de Classes por Critério de Sturges\n",
    "classe_sturges = round(1 + 3.322 * math.log(n, 10))\n",
    "# Intervalo entre as Classes\n",
    "intervalo = r / classe_sturges\n",
    "\n",
    "print(f\"Range: {r}\")\n",
    "print(f\"Valor Máximo: {x_max}\")\n",
    "print(f\"Valor Mínimo: {x_min}\")\n",
    "print(f\"Quantidade de Classes Sturges: {classe_sturges}\")\n",
    "print(f\"Quantidade de Classes Raiz: {classe_sturges}\")\n",
    "print(f\"Intervalo entre as Classes: {intervalo}\")\n",
    "\n"
   ],
   "metadata": {
    "collapsed": false,
    "ExecuteTime": {
     "end_time": "2023-09-28T04:17:07.853436844Z",
     "start_time": "2023-09-28T04:17:07.832655455Z"
    }
   },
   "id": "initial_id"
  },
  {
   "cell_type": "code",
   "execution_count": 10,
   "outputs": [
    {
     "name": "stdout",
     "output_type": "stream",
     "text": [
      "Classe 1: 4.7 / --- 6.1\n",
      "Classe 2: 6.1 / --- 7.5\n",
      "Classe 3: 7.5 / --- 8.9\n",
      "Classe 4: 8.9 / --- 10.3\n",
      "Classe 5: 10.3 / --- 11.7\n",
      "Classe 6: 11.7 / --- 13.1\n",
      "Classe 7: 13.1 / --- 14.5\n"
     ]
    }
   ],
   "source": [
    "# Criar as classes de frequência\n",
    "intervalos = []\n",
    "for i in range(classe_sturges):\n",
    "    inferior = x_min + intervalo * i\n",
    "    superior = x_min + intervalo * (i + 1)\n",
    "    print(f\"Classe {i + 1}: {inferior:.3g} / --- {superior:.3g}\")\n",
    "    intervalos.append((inferior, superior))"
   ],
   "metadata": {
    "collapsed": false,
    "ExecuteTime": {
     "end_time": "2023-09-28T04:17:10.616854020Z",
     "start_time": "2023-09-28T04:17:10.594707547Z"
    }
   },
   "id": "cadfff4141cd7a9b"
  },
  {
   "cell_type": "code",
   "execution_count": 6,
   "outputs": [],
   "source": [
    "# Opcional para lista de números\n",
    "ni = []\n",
    "for i in range(len(intervalos)):\n",
    "    ni.append(0)\n",
    "\n",
    "for number in numeros:\n",
    "    for i, classe in enumerate(intervalos):\n",
    "        (inferior, superior) = classe\n",
    "        if inferior <= number < superior:\n",
    "            ni[i] += 1\n",
    "ni[len(ni) - 1] += 1\n",
    "            "
   ],
   "metadata": {
    "collapsed": false,
    "ExecuteTime": {
     "end_time": "2023-09-28T04:15:49.369716261Z",
     "start_time": "2023-09-28T04:15:49.329120847Z"
    }
   },
   "id": "33d92c401a598e61"
  },
  {
   "cell_type": "code",
   "execution_count": 14,
   "outputs": [
    {
     "name": "stdout",
     "output_type": "stream",
     "text": [
      "A observacão de sequências é respectivamente:\n",
      "\n",
      "Classe 1: 4.7 / --- 6.1 -- 26\n",
      "Classe 2: 6.1 / --- 7.5 -- 16\n",
      "Classe 3: 7.5 / --- 8.9 -- 4\n",
      "Classe 4: 8.9 / --- 10.3 -- 3\n",
      "Classe 5: 10.3 / --- 11.7 -- 0\n",
      "Classe 6: 11.7 / --- 13.1 -- 0\n",
      "Classe 7: 13.1 / --- 14.5 -- 1\n",
      "\n",
      "Total: 50        \n",
      "\n",
      "4.7\n",
      "6.1000000000000005\n",
      "|    | Classes de Tempo                         |   Ni |   Pi |   Xi |   Xi * Pi |   Pi Acumulado |   DesvPond |       QDP |   Desvios |\n",
      "|---:|:-----------------------------------------|-----:|-----:|-----:|----------:|---------------:|-----------:|----------:|----------:|\n",
      "|  1 | (4.7, 6.1000000000000005)                |   26 | 0.52 |  5.4 |     2.808 |           0.52 |   -0.56784 | 0.620081  |    -1.092 |\n",
      "|  2 | (6.1000000000000005, 7.5)                |   16 | 0.32 |  6.8 |     2.176 |           0.84 |    0.09856 | 0.0303565 |     0.308 |\n",
      "|  3 | (7.5, 8.9)                               |    4 | 0.08 |  8.2 |     0.656 |           0.92 |    0.13664 | 0.233381  |     1.708 |\n",
      "|  4 | (8.9, 10.3)                              |    3 | 0.06 |  9.6 |     0.576 |           0.98 |    0.18648 | 0.57958   |     3.108 |\n",
      "|  5 | (10.3, 11.700000000000001)               |    0 | 0    | 11   |     0     |           0.98 |    0       | 0         |     4.508 |\n",
      "|  6 | (11.700000000000001, 13.100000000000001) |    0 | 0    | 12.4 |     0     |           0.98 |    0       | 0         |     5.908 |\n",
      "|  7 | (13.100000000000001, 14.5)               |    1 | 0.02 | 13.8 |     0.276 |           1    |    0.14616 | 1.06814   |     7.308 |\n",
      "\n",
      "Média: 6.491999999999999\n",
      "Variância: 2.531536\n",
      "Desvio Padrão: 1.5910801362596416\n",
      "Soma desvios Ponderados: 0\n",
      "Desvio Médio: 3.1080000000000014\n",
      "Coeficiente de Variacão: 0.2450832002864513; Baixa disperćão\n",
      "\n",
      "Classe que contém a Mediana: 1\n",
      "Mediana de acordo com a divisão de classes: 6.046153846153847\n",
      "Classe que contém a Moda: 1\n",
      "Moda de acordo com a divisão de classes: 5.4\n",
      "Primeiro Coeficiente de Assimetria de Pearson: 0.6863262101726094; Cauda à direita\n",
      "Assimetria Média\n",
      "Segundo Coeficiente de Assimetria de Pearson: 0.8406480799155609; Cauda à direita\n",
      "Assimetria Forte\n"
     ]
    }
   ],
   "source": [
    "# Observacões por Classe\n",
    "pi = []\n",
    "xi = []\n",
    "xipi = []\n",
    "pi_acc = []\n",
    "total = sum(ni)\n",
    "print(f\"A observacão de sequências é respectivamente:\\n\")\n",
    "for i in range(classe_sturges):\n",
    "    (inferior, superior) = intervalos[i]\n",
    "    pi.append(ni[i] / total)\n",
    "    xi.append((inferior + superior) / 2)\n",
    "    xipi.append(xi[i] * pi[i])\n",
    "    pi_acc.append(sum(pi))\n",
    "    print(f\"Classe {i + 1}: {inferior:.3g} / --- {superior:.3g} -- {ni[i]}\")\n",
    "print(f\"\\nTotal: {total:<10}\\n\")\n",
    "\n",
    "media = sum(xipi)\n",
    "\n",
    "desv_pond = []\n",
    "qdp = []\n",
    "desvios = []\n",
    "\n",
    "for i in range(classe_sturges):\n",
    "    desvios.append(xi[i] - media)\n",
    "    desv_pond.append((xi[i] - media) * pi[i])\n",
    "    qdp.append(((xi[i] - media) ** 2) * pi[i])\n",
    "\n",
    "variancia = sum(qdp)\n",
    "desvio_padrao = math.sqrt(variancia)\n",
    "coef_variacao = desvio_padrao / media\n",
    "\n",
    "# desv_padronizado = []\n",
    "# for i in range(classe_sturges):\n",
    "#     desv_padronizado.append((xi[i] - media) / variancia)\n",
    "\n",
    "mediana_classe = 0\n",
    "for i in range(classe_sturges):\n",
    "    if pi_acc[i] >= 0.5:\n",
    "        mediana_classe = i + 1\n",
    "        break\n",
    "\n",
    "(inferior_mediana, superior_mediana) = intervalos[mediana_classe - 1]\n",
    "pi_ant = 0\n",
    "if mediana_classe != 1:\n",
    "    pi_ant = pi_acc[mediana_classe - 2]\n",
    "    \n",
    "# mediana_frequencia = ((superior_mediana - inferior_mediana) / pi_acc[mediana_classe - 1]) * (0.5 - pi_ant) + inferior_mediana\n",
    "print(inferior_mediana)\n",
    "print(superior_mediana)\n",
    "mediana_frequencia = ((inferior_mediana) + (((superior_mediana - inferior_mediana) * (0.5 - pi_ant)) / (pi_acc[mediana_classe - 1] - pi_ant)))\n",
    "\n",
    "classe_moda = pi.index(max(pi)) + 1\n",
    "\n",
    "assimetria1 = (media - xi[classe_moda - 1]) / desvio_padrao\n",
    "assimetria2 = 3 * (media - mediana_frequencia) / desvio_padrao\n",
    "\n",
    "pandas.options.display.float_format = '{:.2}'.format\n",
    "df = pandas.DataFrame({\"Classes de Tempo\": intervalos, \"Ni\": ni, \"Pi\": pi, \"Xi\": xi, \"Xi * Pi\": xipi, \"Pi Acumulado\": pi_acc, \"DesvPond\": desv_pond, \"QDP\": qdp, \"Desvios\": desvios}, index=[i for i in range(1, classe_sturges + 1)])\n",
    "\n",
    "print(df.to_markdown())\n",
    "\n",
    "\n",
    "print(f\"\\nMédia: {media}\")\n",
    "print(f\"Variância: {variancia}\")\n",
    "print(f\"Desvio Padrão: {desvio_padrao}\")\n",
    "print(f\"Soma desvios Ponderados: {round(sum(desv_pond))}\")\n",
    "print(f\"Desvio Médio: {sum(desvios) / classe_sturges}\")\n",
    "print(f\"Coeficiente de Variacão: {coef_variacao}\", end=\"; \")\n",
    "if coef_variacao == 0:\n",
    "    print(\"Não tem disperćão\")\n",
    "elif coef_variacao <= 0.25:\n",
    "    print(\"Baixa disperćão\")\n",
    "elif coef_variacao <= 0.50:\n",
    "    print(\"Disperćão Média\")\n",
    "elif coef_variacao <= 0.75:\n",
    "    print(\"Disperćão Alta\")\n",
    "else:\n",
    "    print(\"Disperćão muito alta\")\n",
    "\n",
    "print(\"\")\n",
    "print(f\"Classe que contém a Mediana: {mediana_classe}\")\n",
    "print(f\"Mediana de acordo com a divisão de classes: {mediana_frequencia}\")\n",
    "print(f\"Classe que contém a Moda: {classe_moda}\")\n",
    "print(f\"Moda de acordo com a divisão de classes: {xi[classe_moda - 1]}\")\n",
    "print(f\"Primeiro Coeficiente de Assimetria de Pearson: {assimetria1}\", end=\"; \")\n",
    "if assimetria1 > 0:\n",
    "    print(\"Cauda à direita\")\n",
    "elif assimetria1 < 0:\n",
    "    print(\"Cauda à esquerda\")\n",
    "else:\n",
    "    print(\"Perfeitamente simétrico, média = mediana = moda\")\n",
    "if abs(assimetria1 < 0.15):\n",
    "    print(\"Distribuicao Simétrica\")\n",
    "elif abs(assimetria1 < 0.5):\n",
    "    print(\"Assimetria Moderada\")\n",
    "elif abs(assimetria1 < 0.75):\n",
    "    print(\"Assimetria Média\")\n",
    "elif abs(assimetria1 < 1):\n",
    "    print(\"Assimetria Forte\")\n",
    "else:\n",
    "    print(\"Assimetria Muito Forte\")\n",
    "    \n",
    "    \n",
    "print(f\"Segundo Coeficiente de Assimetria de Pearson: {assimetria2}\", end=\"; \")\n",
    "if assimetria1 > 0:\n",
    "    print(\"Cauda à direita\")\n",
    "elif assimetria1 < 0:\n",
    "    print(\"Cauda à esquerda\")\n",
    "else:\n",
    "    print(\"Perfeitamente simétrico, média = mediana = moda\")\n",
    "if abs(assimetria2 < 0.15):\n",
    "    print(\"Distribuicao Simétrica\")\n",
    "elif abs(assimetria2 < 0.5):\n",
    "    print(\"Assimetria Moderada\")\n",
    "elif abs(assimetria2 < 0.75):\n",
    "    print(\"Assimetria Média\")\n",
    "elif abs(assimetria2 < 1):\n",
    "    print(\"Assimetria Forte\")\n",
    "else:\n",
    "    print(\"Assimetria Muito Forte\")\n",
    "    \n",
    "\n"
   ],
   "metadata": {
    "collapsed": false,
    "ExecuteTime": {
     "end_time": "2023-09-28T04:28:34.410047813Z",
     "start_time": "2023-09-28T04:28:34.368660046Z"
    }
   },
   "id": "fb2be264a4420f0e"
  },
  {
   "cell_type": "code",
   "execution_count": 40,
   "outputs": [
    {
     "name": "stdout",
     "output_type": "stream",
     "text": [
      "Média: 9.147368421052631\n",
      "Mediana: 6.0\n",
      "Mediana Baixa: 6.0\n",
      "Mediana Alta: 6.0\n",
      "Variancia Populacao: 714.1193351800554\n",
      "Variancia Amostral: 726.8714661654135\n",
      "Desvio Padrao Populacao: 26.723011341913836\n",
      "Descio Padrao Amostral: 26.960553892036668\n",
      "Quantils: [5.2, 6.0, 7.3]\n",
      "Desvio Quartilico: 2.0999999999999996\n",
      "Faixa outsiders inferiores: (-1.0999999999999988, 2.0500000000000007)\n",
      "Faixa outsiders superiores: (10.45, 13.599999999999998)\n",
      "Faixa outliers inferiores: -1.0999999999999988\n",
      "Faixa outliers superiores: 13.599999999999998\n",
      "Outsiders inferiores: [0.1]\n",
      "Outlier inferiores: [-50]\n",
      "Outsider superiores: [12]\n",
      "Outlier superiores: [14.1, 22, 200]\n"
     ]
    }
   ],
   "source": [
    "# Usando Statistics, para todos os números\n",
    "\n",
    "media = statistics.mean(numeros)\n",
    "mediana = statistics.median(numeros)\n",
    "mediana_baixa = statistics.median_low(numeros)\n",
    "mediana_alta = statistics.median_high(numeros)\n",
    "variancia_populacao = statistics.pvariance(numeros)\n",
    "variancia_amostra = statistics.variance(numeros)\n",
    "desvio_padrao_populacao = statistics.pstdev(numeros)\n",
    "desvio_padrao_amostra = statistics.stdev(numeros)\n",
    "quantis = statistics.quantiles(numeros, method='inclusive')\n",
    "q1 = quantis[0]\n",
    "q2 = quantis[1]\n",
    "q3 = quantis[2]\n",
    "dq = q3 - q1\n",
    "faixa_outsiders_inferiores = (q1 - 3 * dq, q1 - 1.5 * dq)\n",
    "faixa_outsiders_superiores = (q3 + 1.5 * dq, q3 + 3 * dq)\n",
    "faixa_outliers_inferiores = q1 - 3 * dq\n",
    "faixa_outliers_superiores = q3 + 3 * dq\n",
    "\n",
    "outsider_inferiores = []\n",
    "outlier_inferiores = []\n",
    "outsider_superiores = []\n",
    "outlier_superiores = []\n",
    "for number in numeros:\n",
    "    if faixa_outsiders_inferiores[0] <= number < faixa_outsiders_inferiores[1]:\n",
    "        outsider_inferiores.append(number)\n",
    "    elif faixa_outliers_inferiores >= number:\n",
    "        outlier_inferiores.append(number)\n",
    "    elif faixa_outsiders_superiores[0] <= number < faixa_outsiders_superiores[1]:\n",
    "        outsider_superiores.append(number)\n",
    "    elif number >= faixa_outliers_superiores:\n",
    "        outlier_superiores.append(number)\n",
    "\n",
    "\n",
    "print(f\"Média: {media}\")\n",
    "print(f\"Mediana: {mediana}\")\n",
    "print(f\"Mediana Baixa: {mediana_baixa}\")\n",
    "print(f\"Mediana Alta: {mediana_alta}\")\n",
    "print(f\"Variancia Populacao: {variancia_populacao}\")\n",
    "print(f\"Variancia Amostral: {variancia_amostra}\")\n",
    "print(f\"Desvio Padrao Populacao: {desvio_padrao_populacao}\")\n",
    "print(f\"Descio Padrao Amostral: {desvio_padrao_amostra}\")\n",
    "print(f\"Quantils: {quantis}\")\n",
    "print(f\"Desvio Quartilico: {dq}\")\n",
    "print(f\"Faixa outsiders inferiores: {faixa_outsiders_inferiores}\")\n",
    "print(f\"Faixa outsiders superiores: {faixa_outsiders_superiores}\")\n",
    "print(f\"Faixa outliers inferiores: {faixa_outliers_inferiores}\")\n",
    "print(f\"Faixa outliers superiores: {faixa_outliers_superiores}\")\n",
    "print(f\"Outsiders inferiores: {outsider_inferiores}\")\n",
    "print(f\"Outlier inferiores: {outlier_inferiores}\")\n",
    "print(f\"Outsider superiores: {outsider_superiores}\")\n",
    "print(f\"Outlier superiores: {outlier_superiores}\")\n"
   ],
   "metadata": {
    "collapsed": false,
    "ExecuteTime": {
     "end_time": "2023-09-28T05:05:27.585816295Z",
     "start_time": "2023-09-28T05:05:27.545602497Z"
    }
   },
   "id": "940f4d13f36496dc"
  }
 ],
 "metadata": {
  "kernelspec": {
   "display_name": "Python 3",
   "language": "python",
   "name": "python3"
  },
  "language_info": {
   "codemirror_mode": {
    "name": "ipython",
    "version": 2
   },
   "file_extension": ".py",
   "mimetype": "text/x-python",
   "name": "python",
   "nbconvert_exporter": "python",
   "pygments_lexer": "ipython2",
   "version": "2.7.6"
  }
 },
 "nbformat": 4,
 "nbformat_minor": 5
}
